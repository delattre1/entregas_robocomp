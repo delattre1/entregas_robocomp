{
 "cells": [
  {
   "cell_type": "code",
   "execution_count": 6,
   "metadata": {},
   "outputs": [],
   "source": [
    "#!/usr/bin/python\n",
    "# -*- coding: utf-8 -*-\n",
    "import cv2\n",
    "import getopt\n",
    "import sys\n",
    "\n",
    "# Cria o detector BRISK\n",
    "brisk = cv2.BRISK_create()\n",
    "\n",
    "# Configura o algoritmo de casamento de features que vê *como* o objeto que deve ser encontrado aparece na imagem\n",
    "bf = cv2.BFMatcher(cv2.NORM_HAMMING)\n",
    "\n",
    "# Define o mínimo de pontos similares\n",
    "MINIMO_SEMELHANCAS = 10"
   ]
  },
  {
   "cell_type": "code",
   "execution_count": 7,
   "metadata": {},
   "outputs": [],
   "source": [
    "def find_good_matches(descriptor_image1, frame_gray):\n",
    "    \"\"\"\n",
    "        Recebe o descritor da imagem a procurar e um frame da cena, e devolve os keypoints e os good matches\n",
    "    \"\"\"\n",
    "    des1 = descriptor_image1\n",
    "    kp2, des2 = brisk.detectAndCompute(frame_gray,None)\n",
    "\n",
    "    # Tenta fazer a melhor comparacao usando o algoritmo\n",
    "    matches = bf.knnMatch(des1,des2,k=2)\n",
    "\n",
    "    # store all the good matches as per Lowe's ratio test.\n",
    "    good = []\n",
    "    for m,n in matches:\n",
    "        if m.distance < 0.7*n.distance:\n",
    "            good.append(m)\n",
    "\n",
    "    return kp2, good"
   ]
  },
  {
   "cell_type": "code",
   "execution_count": 8,
   "metadata": {},
   "outputs": [],
   "source": [
    "if __name__ == \"__main__\":\n",
    "\n",
    "    if len(sys.argv) > 1:\n",
    "        arg = sys.argv[1]\n",
    "        try:\n",
    "            input_source=int(arg) # se for um device\n",
    "        except:\n",
    "            input_source=str(arg) # se for nome de arquivo\n",
    "    else:   \n",
    "        input_source = 0\n",
    "\n",
    "    cap = cv2.VideoCapture(0)\n",
    "\n",
    "    original_rgb = cv2.imread(\"insper_logo2.jpeg\")  # Imagem a procurar\n",
    "    img_original = cv2.cvtColor(original_rgb, cv2.COLOR_BGR2GRAY)\n",
    "    #original_rgb = cv2.cvtColor(original_bgr, cv2.COLOR_BGR2RGB)\n",
    "\n",
    "    # Encontra os pontos únicos (keypoints) nas duas imagems\n",
    "    kp1, des1 = brisk.detectAndCompute(img_original ,None)\n",
    "\n",
    "    while(True):\n",
    "        # Capture frame-by-frame\n",
    "        ret, frame = cap.read()\n",
    "        \n",
    "        if ret == False:\n",
    "            print(\"Problema para capturar o frame da câmera\")\n",
    "            continue\n",
    "\n",
    "        # Our operations on the frame come here\n",
    "        frame_rgb = frame #cv2.cvtColor(frame, cv2.COLOR_BGR2RGB) \n",
    "        gray = cv2.cvtColor(frame, cv2.COLOR_BGR2GRAY)\n",
    "\n",
    "        kp2, good_matches = find_good_matches(des1, gray)\n",
    "\n",
    "        if len(good_matches) > MINIMO_SEMELHANCAS:\n",
    "            img3 = cv2.drawMatches(original_rgb,kp1,frame_rgb,kp2, good_matches, None,flags=cv2.DrawMatchesFlags_NOT_DRAW_SINGLE_POINTS)\n",
    "            cv2.imshow('BRISK features', img3)\n",
    "        else:\n",
    "            cv2.imshow(\"BRISK features\", frame)\n",
    "\n",
    "        if cv2.waitKey(1) & 0xFF == ord('q'):\n",
    "            break\n",
    "\n",
    "    # When everything done, release the capture\n",
    "    cap.release()\n",
    "    cv2.destroyAllWindows()"
   ]
  },
  {
   "cell_type": "code",
   "execution_count": null,
   "metadata": {},
   "outputs": [],
   "source": []
  }
 ],
 "metadata": {
  "kernelspec": {
   "display_name": "Python 3",
   "language": "python",
   "name": "python3"
  },
  "language_info": {
   "codemirror_mode": {
    "name": "ipython",
    "version": 3
   },
   "file_extension": ".py",
   "mimetype": "text/x-python",
   "name": "python",
   "nbconvert_exporter": "python",
   "pygments_lexer": "ipython3",
   "version": "3.8.5"
  }
 },
 "nbformat": 4,
 "nbformat_minor": 4
}
